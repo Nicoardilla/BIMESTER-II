{
  "nbformat": 4,
  "nbformat_minor": 0,
  "metadata": {
    "colab": {
      "provenance": []
    },
    "kernelspec": {
      "name": "python3",
      "display_name": "Python 3"
    },
    "language_info": {
      "name": "python"
    }
  },
  "cells": [
    {
      "cell_type": "markdown",
      "source": [
        "ACTIVITY 1 and 2\n"
      ],
      "metadata": {
        "id": "119s8gc4FK77"
      }
    },
    {
      "cell_type": "code",
      "execution_count": null,
      "metadata": {
        "id": "stQBR_GH7ki8",
        "collapsed": true
      },
      "outputs": [],
      "source": [
        "print(\"START OF THE GAME\")\n",
        "print(\"RULES\")\n",
        "print(\"    - Use Lowercase letters if it's not a name\")\n",
        "print(\"YOU CAN CONTINUE\")\n",
        "print(\"  \")\n",
        "print(\" \")\n",
        "nom = input(\"enter your name : \")\n",
        "ate = int(input(\"enter your age : \"))\n",
        "print(\"Nice to meet you\", nom )\n",
        "print(\"So you are \", ate , \"!\")\n",
        "\n",
        "if ate <=30 :\n",
        "   print(\"You are still young, it´s been a long time since I saw someone new!\")\n",
        "if ate >30 :\n",
        "   if ate <=50 :\n",
        "          print(\"it is nice to see someone from the metal ages, I am glad to text you!\")\n",
        "if ate >50:\n",
        "  if ate <=70:\n",
        "            print(\"It is always nice to meet someone from the neolithic, it is a pleasure to text you!\")\n",
        "if ate >=70:\n",
        "      print(\"You must be an interesting person! it is nice to see someone from the Paleolithic :) \")\n",
        "\n",
        "print(\" \")\n",
        "print(\"  \")"
      ]
    },
    {
      "cell_type": "markdown",
      "source": [
        "ACT. 3"
      ],
      "metadata": {
        "id": "CRvRc-A_FP86"
      }
    },
    {
      "cell_type": "code",
      "source": [
        "4print(\"We are going to play some games :) \")\n",
        "print(\" \")\n",
        "julius= int(input(\"enter the first number : \"))\n",
        "cristian= int(input(\"enter your second number : \"))\n",
        "print(\"the sum of your numbers is\", julius + cristian)\n",
        "chispitas= input(\"Imagine what is going to be the next equation!\")\n",
        "print(\"Let's see\")\n",
        "print(\"It was multiplication! and product of them is \", julius * cristian)\n",
        "print(\"I just noticed that i can't see because I'm a computer...\")\n",
        "print(\"\")\n",
        "print(\"well the difference of your numbers is \", julius - cristian)\n",
        "print(\" \")\n",
        "print(\"and the quotient between the first and second number is \", round((julius/ cristian) , 1))\n",
        "print(\" \")\n"
      ],
      "metadata": {
        "collapsed": true,
        "id": "vY37E390_7Pm"
      },
      "execution_count": null,
      "outputs": []
    },
    {
      "cell_type": "markdown",
      "source": [
        "ACT.4"
      ],
      "metadata": {
        "id": "QLSTE9jWFYqp"
      }
    },
    {
      "cell_type": "code",
      "source": [
        "print(\" \")\n",
        "j= int(input(\"To continue with the game, can you please enter another number ? : \"))\n",
        "print(\" \")\n",
        "c= int(input(\" Now can you enter a second one ? : \"))\n",
        "print(\" \")\n",
        "e= int(input(\"NOW ENTER A THIRD ONE PLEASE ?\"))\n",
        "print(\" \")\n",
        "input(\"I am going to ask you something very important...\")\n",
        "print(\" \")\n",
        "h= int(input(\"Enter a fourth number please : \"))\n",
        "print(\" \")\n",
        "print(\"And now the average of your number is \", round(((j+c+e+h ) /4), 2) )\n",
        "print(\" \")"
      ],
      "metadata": {
        "id": "m5wqRIPkDhTS",
        "colab": {
          "base_uri": "https://localhost:8080/"
        },
        "outputId": "6d7f5633-8738-471c-c7cd-15d7c11e8f3e"
      },
      "execution_count": null,
      "outputs": [
        {
          "output_type": "stream",
          "name": "stdout",
          "text": [
            " \n",
            "To continue with the game, can you please enter another number ? : 7\n",
            " \n",
            " Now can you enter a second one ? : 5\n",
            " \n",
            "NOW ENTER A THIRD ONE PLEASE ?3\n",
            " \n",
            "I am going to ask you something very important...wha\n",
            " \n",
            "Enter a fourth number please : 2\n",
            " \n",
            "And now the average of your number is  4.25\n",
            " \n"
          ]
        }
      ]
    },
    {
      "cell_type": "markdown",
      "source": [
        "ACT 5"
      ],
      "metadata": {
        "id": "xKeeYWbGFbh5"
      }
    },
    {
      "cell_type": "code",
      "source": [
        "\n",
        "cris= int(input(\"We are going to do a quadrilateral, a rectangle ok , can you please enter the width ? \"))\n",
        "print(\" \")\n",
        "juli= int(input(\"And now the height is \"))\n",
        "print(\" \")\n",
        "print(\"The area is \", cris*juli )\n",
        "print(\" \")\n",
        "print(\"and perimeter is\", 2*(cris+juli))\n",
        "print(\" \")"
      ],
      "metadata": {
        "id": "0DJFt9hnFzyA",
        "colab": {
          "base_uri": "https://localhost:8080/"
        },
        "outputId": "70cd2b9d-a7f6-4327-90fb-ad9f5ad2fd04"
      },
      "execution_count": null,
      "outputs": [
        {
          "output_type": "stream",
          "name": "stdout",
          "text": [
            "We are going to do a quadrilateral, a rectangle ok , can you please enter the width ? 8\n",
            " \n",
            "And now the height is 2\n",
            " \n",
            "The area is  16\n",
            " \n",
            "and perimeter is 20\n",
            " \n"
          ]
        }
      ]
    },
    {
      "cell_type": "markdown",
      "source": [
        "ACT 6"
      ],
      "metadata": {
        "id": "Z-Sn5xSUFkkg"
      }
    },
    {
      "cell_type": "code",
      "source": [
        "print(\"NOW WE ARE GOING TO DO A TRIANGLE :D\")\n",
        "print(\" \")\n",
        "BA= int(input(\" Enter the lenght of the base : \"))\n",
        "print(\" \")\n",
        "LE= int(input(\"andd nowwwwww the height is going to be ...\"))\n",
        "print(\" \")\n",
        "print(\"The area of your triangle is \", (BA*LE)/2)\n",
        "print(\" \")\n"
      ],
      "metadata": {
        "id": "-qQPLpKNGXOu",
        "colab": {
          "base_uri": "https://localhost:8080/"
        },
        "outputId": "d40d2dfb-ea42-47d5-aa4a-4a497621b00b"
      },
      "execution_count": null,
      "outputs": [
        {
          "output_type": "stream",
          "name": "stdout",
          "text": [
            "NOW WE ARE GOING TO DO A TRIANGLE :D\n",
            " \n",
            " Enter the lenght of the base : 7\n",
            " \n",
            "andd nowwwwww the height is going to be ...2\n",
            " \n",
            "The area of your triangle is  7.0\n",
            " \n"
          ]
        }
      ]
    },
    {
      "cell_type": "markdown",
      "source": [
        "ACT 7"
      ],
      "metadata": {
        "id": "2yMVR3j6M7oh"
      }
    },
    {
      "cell_type": "code",
      "source": [
        "print(\"Let´s continue with a circumference\")\n",
        "print(\" \")\n",
        "dia= int(input(\"enter an even number \"))\n",
        "print(\"Let´s think that the diameter of your circurference is\", dia )\n",
        "print(\" \")\n",
        "print(\"The radio of your circumference is equal to the diameter between two\")\n",
        "radio= int(input(\"so what´s your radio? \"))\n",
        "print(\"   \")\n",
        "if radio == dia/2 :\n",
        "    print(\"You are correct!\")\n",
        "if radio != dia/2:\n",
        "    print(\"Sorry, the correct answer is \", dia/2)\n",
        "print(\" \")\n",
        "radi= dia/2\n",
        "print(\"That means that the area is \", radi*radi,\"π \")\n",
        "print(\" \")\n",
        "print(\"And the perimeter is going to be \", dia,\"π\")\n",
        "print(\" \")\n",
        "\n",
        "\n"
      ],
      "metadata": {
        "collapsed": true,
        "id": "cdm4iZoLM9ML",
        "colab": {
          "base_uri": "https://localhost:8080/"
        },
        "outputId": "67f140be-e7c9-423f-e6df-df26e6274606"
      },
      "execution_count": null,
      "outputs": [
        {
          "output_type": "stream",
          "name": "stdout",
          "text": [
            "Let´s continue with a circumference\n",
            " \n",
            "enter an even number 8\n",
            "Let´s think that the diameter of your circurference is 8\n",
            " \n",
            "The radio of your circumference is equal to the diameter between two\n",
            "so what´s your radio? 4\n",
            "   \n",
            "You are correct!\n",
            " \n",
            "That means that the area is  16.0 π \n",
            " \n",
            "And the perimeter is going to be  8 π\n",
            " \n"
          ]
        }
      ]
    },
    {
      "cell_type": "markdown",
      "source": [
        "act 8"
      ],
      "metadata": {
        "id": "QIcgbOGfNwne"
      }
    },
    {
      "cell_type": "code",
      "source": [
        "print(\" We are going to do a conversor of money from soles to dolars\")\n",
        "print(\" \")\n",
        "hucky= int(input(\"Enter the amount of soles you want to convert : \"))\n",
        "chihuahua = hucky/3.74\n",
        "print(\" \")\n",
        "print(\"The amount of dolars you are going to have is \", round(chihuahua ,2) )\n",
        "print(\" \")\n",
        "print(\"I miss the times were the kilogram of potato in my country was 80 cents... reference to pataclaun...\")\n",
        "print(\"If you dont know pataclaun, I don't know who are you!\")\n",
        "print(\"... ok forget about that :)\")\n"
      ],
      "metadata": {
        "id": "-h8MOMYbY0__",
        "colab": {
          "base_uri": "https://localhost:8080/"
        },
        "outputId": "0adb444d-be97-4640-958d-34a8343909b1"
      },
      "execution_count": null,
      "outputs": [
        {
          "output_type": "stream",
          "name": "stdout",
          "text": [
            " We are going to do a conversor of money from soles to dolars\n",
            " \n",
            "Enter the amount of soles you want to convert : 90\n",
            " \n",
            "The amount of dolars you are going to have is  24.06\n",
            " \n",
            "I miss the times were the kilogram of potato in my country was 80 cents... reference to pataclaun...\n",
            "If you dont know pataclaun, I don't know who are you!\n",
            "... ok forget about that :)\n"
          ]
        }
      ]
    },
    {
      "cell_type": "markdown",
      "source": [
        "ACT 9"
      ],
      "metadata": {
        "id": "Z7zl4u68djA-"
      }
    },
    {
      "cell_type": "code",
      "source": [
        "\n",
        "print(\"I have an idea\")\n",
        "print(\" \")\n",
        "cristian= input(\"Enter a country please \")\n",
        "print(\" \")\n",
        "julius= input(\"And now the continent where its located! \")\n",
        "print(\" \")\n",
        "\n",
        "if cristian== \"Peru\":\n",
        "  print(\"Of course, we are Peruvian from hearth!\")\n",
        "\n",
        "arelis= input(\" The currency that the country uses is ? \")\n",
        "print(\" \")\n",
        "cielo= input(\" and a touristic place from that country ? \")\n",
        "print(\" \")\n",
        "print(\"Today I´m going to present you something ... \")\n",
        "print(\" \")\n",
        "print(\"In the continent of \",julius)\n",
        "print(\" \")\n",
        "print(\"We can find an amazing country called\", cristian)\n",
        "print(\" \")\n",
        "print(\"were you can find the touristic place of\", cielo)\n",
        "print(\" \")\n",
        "print(\"and... you may need to change your money, since their currency are \",arelis)\n",
        "if cristian ==\"Peru\":\n",
        "  print(\"or you may not\")\n",
        "print(\" \")\n",
        "uwu= int(input(\" on a range of 1 to 3, did you liked my text? \"))\n",
        "print(\" \")\n",
        "if uwu<=1 :\n",
        "  print(\"I am going to put on my sad face...\")\n",
        "if uwu==2:\n",
        "  print(\"Thanks!\")\n",
        "if uwu >= 3:\n",
        "  print(\"I knew you would like it! I'm a humurous program, it's in my code!\")\n"
      ],
      "metadata": {
        "id": "qNkQlxrwditD",
        "colab": {
          "base_uri": "https://localhost:8080/"
        },
        "outputId": "3df79024-b6de-46fd-f90c-6223d8b767ea"
      },
      "execution_count": null,
      "outputs": [
        {
          "output_type": "stream",
          "name": "stdout",
          "text": [
            "I have an idea\n",
            " \n",
            "Enter a country please Peru\n",
            " \n",
            "And now the continent where its located! America\n",
            " \n",
            "Of course, we are Peruvian from hearth!\n",
            " The currency that the country uses is ? soles\n",
            " \n",
            " and a touristic place from that country ? Hu\n",
            " \n",
            "Today I´m going to present you something ... \n",
            " \n",
            "In the continent of  America\n",
            " \n",
            "We can find an amazing country called Peru\n",
            " \n",
            "were you can find the touristic place of Hu\n",
            " \n",
            "and... you may need to change your money, since their currency are  soles\n",
            "or you may not\n",
            " \n",
            " on a range of 1 to 3, did you liked my text? 3\n",
            " \n",
            "I knew you would like it! I'm a humurous program, it's in my code!\n"
          ]
        }
      ]
    },
    {
      "cell_type": "markdown",
      "source": [
        "ACT 10"
      ],
      "metadata": {
        "id": "WwfP1mL3fz5W"
      }
    },
    {
      "cell_type": "code",
      "source": [
        "print(\"My dear friend... this is the last game\")\n",
        "ci= input(\"Are you going to miss me ? yes right? :c \")\n",
        "\n",
        "if ci == \"yes\" :\n",
        "  print(\"me too :,c\")\n",
        "\n",
        "if ci== \"no\":\n",
        "  print(\"I know I´m a computer, but that makes me blue! \")\n",
        "\n",
        "\n",
        "print(\" \")\n",
        "print(\"I want to do something useful for you!\")\n",
        "print(\" \")\n",
        "matteo= input(\"do you know what the IMC is?, yes or no please.... \")\n",
        "print(\" \")\n",
        "\n",
        "if matteo== \"yes\":\n",
        "  print(\"Perfect way to see if you have a healthy weight for your height!\")\n",
        "if matteo== \"no\":\n",
        "  print(\"It is a way to see if you have a healthy weight for your height.\")\n",
        "print(\" \")\n",
        "\n",
        "cangrejo= int(input(\"To do it, please enter the number of your height in centimeters \"))\n",
        "print(\"  \")\n",
        "\n",
        "perrito= cangrejo/100\n",
        "\n",
        "gatito= int(input(\"And now the number of your weight in kilograms \"))\n",
        "\n",
        "print(\" \")\n",
        "\n",
        "print(\"The formula for the IMC is your weight divided by the square of your height in meters \")\n",
        "\n",
        "acha = gatito/(perrito*perrito)\n",
        "IMAGINA= round(acha, 1)\n",
        "\n",
        "print(\"that means that your IMC is \", IMAGINA )\n",
        "print(\" \")\n",
        "print(\"there are 6 levels for the IMC\")\n",
        "\n",
        "if IMAGINA < 18.5:\n",
        "   print(\"In your case you are underweight\")\n",
        "   print(\" \")\n",
        "   input(\"it would be great to see a doctor, you know?\")\n",
        "   print(\"Take care of yourself!\")\n",
        "   print(\" \")\n",
        "   print(\"You can always ask for help, dont worry!\")\n",
        "   print(\" \")\n",
        "\n",
        "if IMAGINA >18.5:\n",
        "  if IMAGINA <25:\n",
        "    print(\"You are in the second level\")\n",
        "    print(\" \")\n",
        "    print(\"you are a healthy person!, that is great!\")\n",
        "    print(\"Keep taking care of yourself\")\n",
        "    print(\" \")\n",
        "    print(\"Remember that you are the most important person in your life\")\n",
        "    print(\" \")\n",
        "\n",
        "if IMAGINA >=25:\n",
        "  if IMAGINA <30:\n",
        "    print(\"You are in the third level, that means that...\")\n",
        "    print(\" \")\n",
        "    print(\"You are a little overweight, but dont worry!\")\n",
        "    print(\" \")\n",
        "    print(\"Try keeping a healthy lifestyle and ask to a doctor\")\n",
        "    print(\"All is going to be nice if you stick with it!\")\n",
        "    print(\" \")\n",
        "\n",
        "if IMAGINA >= 30:\n",
        "  if IMAGINA <35:\n",
        "    print(\"You are in the fourth level\")\n",
        "    print(\" \")\n",
        "    print(\"Please ask to a doctor, it's very important \")\n",
        "    print(\" \")\n",
        "    print(\"Your health may be in a very BAD situation\")\n",
        "    print(\" \")\n",
        "    print(\"I know that you will overcome this!\")\n",
        "    print(\" \")\n",
        "\n",
        "\n",
        "if IMAGINA >= 35:\n",
        "  if IMAGINA <40:\n",
        "    print(\"You are in the level number five...\")\n",
        "    print(\" \")\n",
        "    print(\"See a doctor in this moment please...\")\n",
        "    print(\" \")\n",
        "    print(\"and a psychologist.\")\n",
        "    print(\" \")\n",
        "    print(\"You might be facing a lot of problems\")\n",
        "    print(\" \")\n",
        "    print(\"But remember that your life is important\")\n",
        "\n",
        "if IMAGINA >= 40:\n",
        "  print(\"You are in the last level, the number six...\")\n",
        "  print(\" \")\n",
        "  print(\" SEE A DOCTOR\")\n",
        "  print(\"Also a psychologist\")\n",
        "  print(\" \")\n",
        "  print(\"Your health is IN DANGER\")\n",
        "  print(\" \")\n",
        "  print(\"Please do it\")\n",
        "  print(\" \")\n",
        "  print(\"And stick to it!\")\n",
        "  print(\" \")\n",
        "\n",
        "print(\"FAREWELL\")\n",
        "input(\"I think this is the end for me \")\n",
        "print(\" \")\n",
        "print(\"I was just a program with the goal of making your day better\")\n",
        "print(\"    \")\n",
        "print(\"This is so sad for me \")\n",
        "print(\"  \")\n",
        "print(\"It was a pleasure to meet you, have a great life for me!\")\n",
        "print(\"I belive in you!\")\n",
        "print(\" \")\n",
        "print(\"THE END\")\n",
        "\n",
        "\n"
      ],
      "metadata": {
        "id": "tLtJFGbVmCEJ",
        "colab": {
          "base_uri": "https://localhost:8080/"
        },
        "outputId": "9f7d5be9-9b56-4e22-e88a-f9d80972aa93"
      },
      "execution_count": null,
      "outputs": [
        {
          "output_type": "stream",
          "name": "stdout",
          "text": [
            "My dear friend... this is the last game\n",
            "Are you going to miss me ? yes right? :c no\n",
            "I know I´m a computer, but that makes me blue! \n",
            " \n",
            "I want to do something useful for you!\n",
            " \n",
            "do you know what the IMC is?, yes or no please.... no\n",
            " \n",
            "It is a way to see if you have a healthy weight for your height.\n",
            " \n",
            "To do it, please enter the number of your height in centimeters 160\n",
            "  \n",
            "And now the number of your weight in kilograms 80\n",
            " \n",
            "The formula for the IMC is your weight divided by the square of your height in meters \n",
            "that means that your IMC is  31.2\n",
            " \n",
            "there are 6 levels for the IMC\n",
            "You are in the fourth level\n",
            " \n",
            "Please ask to a doctor, it's very important \n",
            " \n",
            "Your health may be in a very BAD situation\n",
            " \n",
            "I know that you will overcome this!\n",
            " \n",
            "I think this is the end for me WHY\n",
            " \n",
            "I was just a program with the goal of making your day better\n",
            "    \n",
            "This is so sad for me \n",
            "  \n",
            "It was a pleasure to meet you, have a great life for me!\n",
            "I belive in you!\n",
            " \n",
            "THE END\n"
          ]
        }
      ]
    }
  ]
}